{
  "nbformat": 4,
  "nbformat_minor": 0,
  "metadata": {
    "colab": {
      "provenance": [],
      "authorship_tag": "ABX9TyPJDw+WXGGZFoPWYQOryY1i",
      "include_colab_link": true
    },
    "kernelspec": {
      "name": "python3",
      "display_name": "Python 3"
    },
    "language_info": {
      "name": "python"
    }
  },
  "cells": [
    {
      "cell_type": "markdown",
      "metadata": {
        "id": "view-in-github",
        "colab_type": "text"
      },
      "source": [
        "<a href=\"https://colab.research.google.com/github/moaath-etoom/power-bi-project/blob/main/moaath02.ipynb\" target=\"_parent\"><img src=\"https://colab.research.google.com/assets/colab-badge.svg\" alt=\"Open In Colab\"/></a>"
      ]
    },
    {
      "cell_type": "code",
      "execution_count": 8,
      "metadata": {
        "colab": {
          "base_uri": "https://localhost:8080/"
        },
        "id": "4ilnSJpV3N8y",
        "outputId": "34624461-9959-4760-9752-d037c31c1ada"
      },
      "outputs": [
        {
          "output_type": "stream",
          "name": "stdout",
          "text": [
            "Enter your name please: \n",
            "There is no name entered.\n"
          ]
        }
      ],
      "source": [
        "x = input(\"Enter your name please: \")\n",
        "if x == \"\":\n",
        "    print(\"There is no name entered.\")\n",
        "else:\n",
        "    print(f\"Welcome: {x}\")"
      ]
    },
    {
      "cell_type": "code",
      "source": [],
      "metadata": {
        "id": "OFf2KAng3UOU"
      },
      "execution_count": null,
      "outputs": []
    }
  ]
}